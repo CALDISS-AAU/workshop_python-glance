{
 "cells": [
  {
   "cell_type": "code",
   "execution_count": 3,
   "metadata": {},
   "outputs": [],
   "source": [
    "#Obs! Bruger chromedriver\n",
    "\n",
    "from selenium import webdriver\n",
    "from selenium.webdriver.common.keys import Keys\n",
    "from selenium.common.exceptions import NoSuchElementException, WebDriverException, ElementNotInteractableException\n",
    "from selenium.webdriver.common.action_chains import ActionChains\n",
    "from bs4 import BeautifulSoup as bs\n",
    "\n",
    "import time"
   ]
  },
  {
   "cell_type": "code",
   "execution_count": 8,
   "metadata": {},
   "outputs": [],
   "source": [
    "driver = webdriver.Chrome(executable_path = 'C:\\\\chromedriver\\\\chromedriver.exe')\n",
    "\n",
    "driver.get('https://www.djoef.dk/')\n",
    "time.sleep(3)\n",
    "\n",
    "driver.find_element_by_css_selector(\"button.coi-banner__accept\").click()\n",
    "time.sleep(3)\n",
    "\n",
    "driver.find_element_by_css_selector(\"li.nav-primary-item:nth-child(2) > div:nth-child(1)\").click()\n",
    "time.sleep(3)\n",
    "\n",
    "driver.find_element_by_css_selector(\"div.is-active > ul:nth-child(1) > li:nth-child(1) > a:nth-child(1)\").click()\n",
    "time.sleep(3)\n",
    "\n",
    "driver.find_element_by_css_selector(\"a.table.search-courses__table.search-courses__table--body.link-arrow\").click()\n",
    "time.sleep(3)\n",
    "\n",
    "pagesource = driver.page_source\n",
    "pagesoup = bs(pagesource)\n",
    "\n",
    "driver.quit()"
   ]
  },
  {
   "cell_type": "code",
   "execution_count": 11,
   "metadata": {},
   "outputs": [
    {
     "data": {
      "text/plain": [
       "'Bliv klogere på EUs konkurrencepolitik | Djøf'"
      ]
     },
     "execution_count": 11,
     "metadata": {},
     "output_type": "execute_result"
    }
   ],
   "source": [
    "pagesoup.title.get_text(strip = True)"
   ]
  }
 ],
 "metadata": {
  "kernelspec": {
   "display_name": "Python 3",
   "language": "python",
   "name": "python3"
  },
  "language_info": {
   "codemirror_mode": {
    "name": "ipython",
    "version": 3
   },
   "file_extension": ".py",
   "mimetype": "text/x-python",
   "name": "python",
   "nbconvert_exporter": "python",
   "pygments_lexer": "ipython3",
   "version": "3.7.9"
  }
 },
 "nbformat": 4,
 "nbformat_minor": 4
}
