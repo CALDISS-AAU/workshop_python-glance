{
 "cells": [
  {
   "cell_type": "markdown",
   "metadata": {
    "slideshow": {
     "slide_type": "slide"
    }
   },
   "source": [
    "<img src=\"../img/python-glance-banner.png\" width=\"1080\">"
   ]
  },
  {
   "cell_type": "markdown",
   "metadata": {
    "slideshow": {
     "slide_type": "slide"
    }
   },
   "source": [
    "# Dagens program:\n",
    "\n",
    "**Hvad er Python, og hvad bliver det brugt til?**\n",
    "- Hvad er et programmeringssprog?\n",
    "- Hvad kendetegner Python som et programmeringssprog?\n",
    "- Hvad bruger man (/jeg) Python til?\n",
    "    \n",
    "**Basale koncepter i Python (live coding)**\n",
    "- Hvad er en fortolker?\n",
    "- Basale koncepter: variable, typer, funktioner og metoder\n",
    "- Dataanalyse i Python\n",
    "    \n",
    "**PAUSE**\n",
    "\n",
    "**Q & A**"
   ]
  },
  {
   "cell_type": "markdown",
   "metadata": {
    "slideshow": {
     "slide_type": "slide"
    }
   },
   "source": [
    "# <center>HVAD ER PYTHON?</center>"
   ]
  },
  {
   "cell_type": "markdown",
   "metadata": {
    "slideshow": {
     "slide_type": "slide"
    }
   },
   "source": [
    "## Hvad er et programmeringssprog?\n",
    "\n",
    "<img src=\"../img/star-trek_computer.jpg\">"
   ]
  },
  {
   "cell_type": "markdown",
   "metadata": {
    "slideshow": {
     "slide_type": "slide"
    }
   },
   "source": [
    "## Kendetegn ved Python\n",
    "\n",
    "**\"Interpreted\" (frem for \"compiled\")**\n",
    "\n",
    "Nogle programmeringssprog skal \"oversættes\" til noget maskinlæsbart først. Python-kode er dirkete maskinlæsbart.\n",
    "\n",
    "**\"General-purpose\" (frem for \"domain-specific\")**\n",
    "\n",
    "Python er udviklet til at kunne bruges generelt og til forskellige formål.\n",
    "\n",
    "**\"Object-oriented\"**\n",
    "\n",
    "Python kode er baseret på konstruktionen af objekter (variable). Objekter er blot beholdere af en eller anden form for information.\n",
    "\n",
    "**Vægt på \"code readability\"**\n",
    "\n",
    "Python kode er udviklet med fokus på at være forståeligt, når man læser selve koden"
   ]
  },
  {
   "cell_type": "markdown",
   "metadata": {
    "slideshow": {
     "slide_type": "slide"
    }
   },
   "source": [
    "# <center>EKSEMPLER PÅ BRUG AF PYTHON</center>\n",
    "<center><img src=\"../img/cat-python.png\" width = 500></center>"
   ]
  }
 ],
 "metadata": {
  "celltoolbar": "Slideshow",
  "kernelspec": {
   "display_name": "Python 3",
   "language": "python",
   "name": "python3"
  },
  "language_info": {
   "codemirror_mode": {
    "name": "ipython",
    "version": 3
   },
   "file_extension": ".py",
   "mimetype": "text/x-python",
   "name": "python",
   "nbconvert_exporter": "python",
   "pygments_lexer": "ipython3",
   "version": "3.7.9"
  }
 },
 "nbformat": 4,
 "nbformat_minor": 4
}
