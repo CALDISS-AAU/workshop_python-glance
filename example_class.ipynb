{
 "cells": [
  {
   "cell_type": "code",
   "execution_count": 41,
   "metadata": {},
   "outputs": [],
   "source": [
    "from random import randint\n",
    "\n",
    "class Jedi:\n",
    "    \n",
    "    def __init__(self, name):\n",
    "        self.name = name\n",
    "        self.rank = ''\n",
    "        self.quotes = []\n",
    "        \n",
    "    def add_rank(self, rank):\n",
    "        self.rank = rank\n",
    "    \n",
    "    def add_quote(self, quote):\n",
    "        self.quotes.append(quote)\n",
    "        \n",
    "    def speak(self):\n",
    "        random_quote = self.quotes[randint(0, len(self.quotes)-1)]\n",
    "        print(random_quote)\n",
    "        \n",
    "kenobi = Jedi('Obi-Wan Kenobi')\n",
    "kenobi.add_rank('Jedi Master')\n",
    "\n",
    "\n",
    "kenobi.add_quote('Hello there!')\n",
    "kenobi.add_quote('So uncivilized')\n",
    "kenobi.add_quote('I hate it when he does that')\n",
    "kenobi.add_quote('Oh no, I\\'m not brave enough for politics')\n",
    "kenobi.add_quote('Only a Sith deals in absolutes')\n",
    "kenobi.add_quote('It\\'s over Anakin. I have the high ground')\n",
    "kenobi.add_quote('Impossible. Perhaps the archives are incomplete')"
   ]
  },
  {
   "cell_type": "code",
   "execution_count": 42,
   "metadata": {},
   "outputs": [
    {
     "data": {
      "text/plain": [
       "'Obi-Wan Kenobi'"
      ]
     },
     "execution_count": 42,
     "metadata": {},
     "output_type": "execute_result"
    }
   ],
   "source": [
    "kenobi.name"
   ]
  },
  {
   "cell_type": "code",
   "execution_count": 43,
   "metadata": {},
   "outputs": [
    {
     "data": {
      "text/plain": [
       "'Jedi Master'"
      ]
     },
     "execution_count": 43,
     "metadata": {},
     "output_type": "execute_result"
    }
   ],
   "source": [
    "kenobi.rank"
   ]
  },
  {
   "cell_type": "code",
   "execution_count": 44,
   "metadata": {},
   "outputs": [
    {
     "name": "stdout",
     "output_type": "stream",
     "text": [
      "Hello there!\n"
     ]
    }
   ],
   "source": [
    "kenobi.speak()"
   ]
  }
 ],
 "metadata": {
  "kernelspec": {
   "display_name": "Python 3",
   "language": "python",
   "name": "python3"
  },
  "language_info": {
   "codemirror_mode": {
    "name": "ipython",
    "version": 3
   },
   "file_extension": ".py",
   "mimetype": "text/x-python",
   "name": "python",
   "nbconvert_exporter": "python",
   "pygments_lexer": "ipython3",
   "version": "3.7.9"
  }
 },
 "nbformat": 4,
 "nbformat_minor": 4
}
